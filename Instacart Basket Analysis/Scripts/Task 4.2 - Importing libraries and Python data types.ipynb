{
 "cells": [
  {
   "cell_type": "markdown",
   "id": "b431f427",
   "metadata": {},
   "source": [
    "Import Libraries"
   ]
  },
  {
   "cell_type": "code",
   "execution_count": 1,
   "id": "df04f659",
   "metadata": {},
   "outputs": [],
   "source": [
    "# Import libraries\n",
    "import pandas as pd\n",
    "import numpy as np\n",
    "import os"
   ]
  },
  {
   "cell_type": "markdown",
   "id": "4746f08e",
   "metadata": {},
   "source": [
    "Working With Python Data Types"
   ]
  },
  {
   "cell_type": "code",
   "execution_count": 9,
   "id": "315d58e0",
   "metadata": {},
   "outputs": [],
   "source": [
    "y = 20\n",
    "x = 10"
   ]
  },
  {
   "cell_type": "code",
   "execution_count": 10,
   "id": "2812ca9a",
   "metadata": {},
   "outputs": [
    {
     "data": {
      "text/plain": [
       "100"
      ]
     },
     "execution_count": 10,
     "metadata": {},
     "output_type": "execute_result"
    }
   ],
   "source": [
    "y * 5\n",
    "x * 10\n",
    "y + y + y + y + y"
   ]
  },
  {
   "cell_type": "code",
   "execution_count": 11,
   "id": "3c44433b",
   "metadata": {},
   "outputs": [],
   "source": [
    "a = 1.2\n",
    "b = 2.9"
   ]
  },
  {
   "cell_type": "code",
   "execution_count": 12,
   "id": "b3a7b4dc",
   "metadata": {},
   "outputs": [
    {
     "data": {
      "text/plain": [
       "0.41379310344827586"
      ]
     },
     "execution_count": 12,
     "metadata": {},
     "output_type": "execute_result"
    }
   ],
   "source": [
    "a / b"
   ]
  },
  {
   "cell_type": "code",
   "execution_count": 13,
   "id": "515c6223",
   "metadata": {},
   "outputs": [],
   "source": [
    "x = \"My cat's name \"\n",
    "y = \"is Milo and he \"\n",
    "z = \"loves to play!\""
   ]
  },
  {
   "cell_type": "code",
   "execution_count": 14,
   "id": "ab45ab2b",
   "metadata": {},
   "outputs": [
    {
     "data": {
      "text/plain": [
       "\"My cat's name is Milo and he loves to play!\""
      ]
     },
     "execution_count": 14,
     "metadata": {},
     "output_type": "execute_result"
    }
   ],
   "source": [
    "x + y + z"
   ]
  },
  {
   "cell_type": "code",
   "execution_count": 16,
   "id": "c3437420",
   "metadata": {},
   "outputs": [],
   "source": [
    "a = \"Burmese cats are known for being very \""
   ]
  },
  {
   "cell_type": "code",
   "execution_count": 17,
   "id": "7123d1a1",
   "metadata": {},
   "outputs": [],
   "source": [
    "b = \"compact but heavy and are often amusingly \""
   ]
  },
  {
   "cell_type": "code",
   "execution_count": 18,
   "id": "a78b5e9d",
   "metadata": {},
   "outputs": [],
   "source": [
    "c = \"described as bricks wrapped in silk!\""
   ]
  },
  {
   "cell_type": "code",
   "execution_count": 19,
   "id": "296af895",
   "metadata": {},
   "outputs": [
    {
     "data": {
      "text/plain": [
       "'Burmese cats are known for being very compact but heavy and are often amusingly described as bricks wrapped in silk!'"
      ]
     },
     "execution_count": 19,
     "metadata": {},
     "output_type": "execute_result"
    }
   ],
   "source": [
    "a + b + c"
   ]
  },
  {
   "cell_type": "code",
   "execution_count": null,
   "id": "272e0f47",
   "metadata": {},
   "outputs": [],
   "source": []
  },
  {
   "cell_type": "code",
   "execution_count": null,
   "id": "c51f0f7b",
   "metadata": {},
   "outputs": [],
   "source": []
  },
  {
   "cell_type": "code",
   "execution_count": null,
   "id": "6fcbf6a1",
   "metadata": {},
   "outputs": [],
   "source": []
  },
  {
   "cell_type": "code",
   "execution_count": null,
   "id": "3e7a5851",
   "metadata": {},
   "outputs": [],
   "source": []
  },
  {
   "cell_type": "code",
   "execution_count": null,
   "id": "17750c08",
   "metadata": {},
   "outputs": [],
   "source": []
  },
  {
   "cell_type": "code",
   "execution_count": null,
   "id": "8bfa5ab8",
   "metadata": {},
   "outputs": [],
   "source": []
  },
  {
   "cell_type": "code",
   "execution_count": null,
   "id": "336b005b",
   "metadata": {},
   "outputs": [],
   "source": []
  }
 ],
 "metadata": {
  "kernelspec": {
   "display_name": "Python 3",
   "language": "python",
   "name": "python3"
  },
  "language_info": {
   "codemirror_mode": {
    "name": "ipython",
    "version": 3
   },
   "file_extension": ".py",
   "mimetype": "text/x-python",
   "name": "python",
   "nbconvert_exporter": "python",
   "pygments_lexer": "ipython3",
   "version": "3.8.8"
  }
 },
 "nbformat": 4,
 "nbformat_minor": 5
}
